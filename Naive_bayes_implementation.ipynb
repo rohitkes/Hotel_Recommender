{
 "cells": [
  {
   "cell_type": "code",
   "execution_count": 1,
   "metadata": {
    "collapsed": true
   },
   "outputs": [],
   "source": [
    "import random,csv,math\n",
    "import graphlab"
   ]
  },
  {
   "cell_type": "code",
   "execution_count": 2,
   "metadata": {
    "collapsed": false
   },
   "outputs": [],
   "source": [
    "def loadCsv(filename):\n",
    "    lines = csv.reader(open(filename, \"rb\"))\n",
    "    dataset = list(lines)\n",
    "    for i in range(len(dataset)):\n",
    "        dataset[i] = [int(x) for x in dataset[i]]  \n",
    "        dataset[i] = [float(x) for x in dataset[i]]\n",
    "    return dataset\n",
    "            \n",
    "\n",
    "def splitDataset(dataset, splitRatio):\n",
    "    trainSize = int(len(dataset) * splitRatio)\n",
    "    trainSet = []\n",
    "    copy = list(dataset)\n",
    "    while len(trainSet) < trainSize:\n",
    "        index = random.randrange(len(copy))\n",
    "        trainSet.append(copy.pop(index))\n",
    "    return [trainSet, copy]\n",
    "\n",
    "def normalise(dataset):\n",
    "    normal=dataset\n",
    "    item_inf=summarize_normal(normal)\n",
    "    for i in range(len(normal)):\n",
    "        for j in range(len(normal[i])-1):\n",
    "            if j==0 or j==1 or j==2 or j==7 or j==11:\n",
    "                normal[i][j]=(normal[i][j]-item_inf[j][0])/(item_inf[j][1])\n",
    "    return normal\n",
    "def separateByClass(dataset):\n",
    "    separated = {}\n",
    "    for i in range(len(dataset)):\n",
    "        vector = dataset[i]\n",
    "        if (vector[-1] not in separated):\n",
    "            separated[vector[-1]] = []\n",
    "        separated[vector[-1]].append(vector)\n",
    "    return separated\n",
    "\n",
    "def mean(numbers):\n",
    "\treturn sum(numbers)/float(len(numbers))\n",
    "\n",
    "def stdev(numbers):\n",
    "\tavg = mean(numbers)\n",
    "\tvariance = sum([pow(x-avg,2) for x in numbers])/float(len(numbers)-1)\n",
    "\treturn math.sqrt(variance)\n",
    "\n",
    "def summarize(dataset):\n",
    "    summaries = [(mean(attribute), stdev(attribute)) for attribute in zip(*dataset)]\n",
    "    del summaries[-1]\n",
    "    return summaries\n",
    "\n",
    "def summarize_normal(dataset):\n",
    "    meanvar = [(mean(attribute), stdev(attribute)) for attribute in zip(*dataset)]\n",
    "    return meanvar\n",
    "\n",
    "def summarizeByClass(dataset):\n",
    "    separated = separateByClass(dataset)\n",
    "    summaries = {}\n",
    "    for classValue, instances in separated.iteritems():\n",
    "        summaries[classValue] = summarize(instances)\n",
    "    return summaries\n",
    "\n",
    "def calculateProbability(x, mean, stdev):\n",
    "    if stdev>0:\n",
    "        exponent = math.exp(-(math.pow(x-mean,2)/(2*math.pow(stdev,2))))\n",
    "        return (1 / (math.sqrt(2*math.pi) * stdev )) * exponent\n",
    "    elif stdev==0:\n",
    "        stdev=0.001\n",
    "        exponent = math.exp(-(math.pow(x-mean,2)/(2*math.pow(stdev,2))))\n",
    "        return (1 / (math.sqrt(2*math.pi) * stdev )) * exponent\n",
    "\n",
    "def calculateClassProbabilities(summaries, inputVector):\n",
    "    probabilities = {}\n",
    "    for classValue, classSummaries in summaries.iteritems():\n",
    "        probabilities[classValue] = 1\n",
    "        for i in range(len(classSummaries)):\n",
    "            if i!=3:\n",
    "                mean, stdev = classSummaries[i]\n",
    "                x = inputVector[i]\n",
    "                k=calculateProbability(x, mean, stdev)\n",
    "                probabilities[classValue] *= calculateProbability(x, mean, stdev)        \n",
    "    return probabilities\n",
    "\n",
    "\n",
    "def predict(summaries, inputVector):\n",
    "    best_three=[]\n",
    "    probabilities = calculateClassProbabilities(summaries, inputVector)\n",
    "    sorteddict= sorted(probabilities.items(), key=lambda x: x[1])\n",
    "    for k in range(3):\n",
    "        best_three.append(sorteddict[99-k])\n",
    "    #print sorteddict\n",
    "    #print sorteddict[0],sorteddict[1],sorteddict[-1],sorteddict[-2],sorteddict[-3]\n",
    "    #print len(sorteddict)\n",
    "    return best_three\n",
    "    \n",
    "def getPredictions(summaries, testSet):\n",
    "    predictions = []\n",
    "    for i in range(len(testSet)):\n",
    "        result = predict(summaries, testSet[i])\n",
    "        predictions.append(result)\n",
    "    for i in range(len(predictions)/1000):    \n",
    "        print testSet[i]\n",
    "        print predictions[i]\n",
    "    return predictions\n",
    "    \n",
    "def getAccuracy(testSet, predictions):\n",
    "\tcorrect = 0\n",
    "\tfor x in range(len(testSet)):\n",
    "\t\tif testSet[x][-1] == predictions[x]:\n",
    "\t\t\tcorrect += 1\n",
    "\treturn (correct/float(len(testSet))) * 1000.0\n",
    "\n"
   ]
  },
  {
   "cell_type": "code",
   "execution_count": 3,
   "metadata": {
    "collapsed": false
   },
   "outputs": [],
   "source": [
    "def main():\n",
    "    filename = 'Project/hotel_test1.csv'\n",
    "    splitRatio = 0.67\n",
    "    dataset = loadCsv(filename)\n",
    "    #mainframe1=graphlab.SFrame('hotel_test1.csv')\n",
    "    #mainframe2=graphlab.SFrame('hotel_train1.csv')\n",
    "    trainingSet, testSet = splitDataset(dataset, splitRatio)\n",
    "    print('Split {0} rows into train={1} and test={2} rows').format(len(dataset), len(trainingSet), len(testSet))\n",
    "    refined_train_dataset=normalise(trainingSet)\n",
    "    refined_test_dataset=normalise(testSet)\n",
    "    \n",
    "\n",
    "    # prepare model     \n",
    "    #summaries = summarizeByClass(refined_train_dataset)\n",
    "    # test model\n",
    "    #predictions = getPredictions(summaries, refined_test_dataset)\n",
    "    #mainframe2.show()\n",
    "    #accuracy = getAccuracy(refined_test_dataset, predictions)\n",
    "    #print('Accuracy: {0}%').format(accuracy)\n",
    "    "
   ]
  },
  {
   "cell_type": "code",
   "execution_count": 4,
   "metadata": {
    "collapsed": false
   },
   "outputs": [
    {
     "name": "stdout",
     "output_type": "stream",
     "text": [
      "Split 93506 rows into train=62649 and test=30857 rows\n"
     ]
    }
   ],
   "source": [
    "main()"
   ]
  },
  {
   "cell_type": "code",
   "execution_count": null,
   "metadata": {
    "collapsed": true
   },
   "outputs": [],
   "source": []
  }
 ],
 "metadata": {
  "kernelspec": {
   "display_name": "Python 2",
   "language": "python",
   "name": "python2"
  },
  "language_info": {
   "codemirror_mode": {
    "name": "ipython",
    "version": 2
   },
   "file_extension": ".py",
   "mimetype": "text/x-python",
   "name": "python",
   "nbconvert_exporter": "python",
   "pygments_lexer": "ipython2",
   "version": "2.7.11"
  }
 },
 "nbformat": 4,
 "nbformat_minor": 0
}
